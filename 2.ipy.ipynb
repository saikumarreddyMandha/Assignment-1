{
  "cells": [
    {
      "cell_type": "code",
      "execution_count": 17,
      "metadata": {
        "colab": {
          "base_uri": "https://localhost:8080/"
        },
        "id": "kQMW6zVmdbc_",
        "outputId": "c88a0680-89da-41f8-fd2e-9a833d28a355"
      },
      "outputs": [
        {
          "name": "stdout",
          "output_type": "stream",
          "text": [
            "\n",
            "Python Course\n",
            "Deep Learning Course \n",
            "Word_Count: \n",
            "\n",
            "Python: 1\n",
            "Course: 2\n",
            "Deep: 1\n",
            "Learning: 1\n"
          ]
        }
      ],
      "source": [
        "\n",
        "#defining a empty string\n",
        "st = \"\"\n",
        "\n",
        "#defining a function to count occurances of each word\n",
        "def wordcount(st):\n",
        "    counts = dict()\n",
        "    w = st.split()\n",
        "    for y in w:\n",
        "        if y in counts:\n",
        "            counts[y]+=1\n",
        "        else:\n",
        "            counts[y]=1\n",
        "    return counts\n",
        "#reading input.txt file and adding it to st variable\n",
        "with open(r'input.txt','r') as file:\n",
        "    data = file.read()\n",
        "    st +=data\n",
        "\n",
        "#calling wordcount function\n",
        "a=str(wordcount(st))\n",
        "st+=\"\\nWord_Count: \\n\"\n",
        "st+=a\n",
        "\n",
        "#replacing string to get required output\n",
        "st = st.replace(\"{\",\"\")\n",
        "st = st.replace(\"}\",\"\")\n",
        "st = st.replace(\"'\",\"\")\n",
        "st = st.replace(\"P\",\"\\nP\")\n",
        "st = st.replace(\", \",\"\\n\")\n",
        "print(st)\n",
        "\n",
        "#opening and writing to the file\n",
        "outputfile = open(r'output.txt','w')\n",
        "outputfile.write(st)\n",
        "\n",
        "#closing of txt files\n",
        "outputfile.close()\n",
        "file.close()\n"
      ]
    }
  ],
  "metadata": {
    "colab": {
      "name": "Welcome To Colab",
      "provenance": []
    },
    "kernelspec": {
      "display_name": "Python 3",
      "name": "python3"
    }
  },
  "nbformat": 4,
  "nbformat_minor": 0
}
