{
  "cells": [
    {
      "cell_type": "code",
      "execution_count": 18,
      "metadata": {
        "colab": {
          "base_uri": "https://localhost:8080/"
        },
        "id": "6oZNHIBzdsvi",
        "outputId": "209f6314-0045-4717-8677-a7dc39c13e83"
      },
      "outputs": [
        {
          "name": "stdout",
          "output_type": "stream",
          "text": [
            "Enter number of customers : 4\n",
            "150\n",
            "155\n",
            "145\n",
            "148\n",
            "[381.0, 393.7, 368.3, 375.92]\n"
          ]
        }
      ],
      "source": [
        "#Defining a list\n",
        "heightList = []\n",
        "\n",
        "#taking input from user for number of customers\n",
        "noOfCustomers = int(input(\"Enter number of customers : \"))\n",
        "\n",
        "#for loop to take input and append to list\n",
        "for i in range(0, noOfCustomers):\n",
        "    h = float(input())\n",
        "    heightList.append(h)\n",
        "\n",
        "#converting inches to cms and appending to a list\n",
        "newlist = [x*2.54 for x in heightList]\n",
        "\n",
        "#printing the new list\n",
        "print(newlist)\n"
      ]
    }
  ],
  "metadata": {
    "colab": {
      "name": "Welcome To Colab",
      "provenance": []
    },
    "kernelspec": {
      "display_name": "Python 3",
      "name": "python3"
    }
  },
  "nbformat": 4,
  "nbformat_minor": 0
}
