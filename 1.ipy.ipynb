{
  "cells": [
    {
      "cell_type": "code",
      "execution_count": 16,
      "metadata": {
        "colab": {
          "base_uri": "https://localhost:8080/"
        },
        "id": "lqEKbzKfdOVT",
        "outputId": "82af7074-4088-47df-8920-103659bbd270"
      },
      "outputs": [
        {
          "name": "stdout",
          "output_type": "stream",
          "text": [
            "your first name : saikumar\n",
            "your last name : mandha\n",
            "Full Name: saikumar mandha\n",
            "siua ada\n"
          ]
        }
      ],
      "source": [
        "#Function to take two strings from the user\n",
        "def fullname(x,y):\n",
        "    return x+\" \"+y\n",
        "\n",
        "#Function that returns every other char in the full_name string\n",
        "def string_alternative(z):\n",
        "    return z[::2]\n",
        "\n",
        "#taking input and assigning to variables\n",
        "First_name = input(\"your first name : \")\n",
        "last_name = input(\"your last name : \")\n",
        "\n",
        "#Calling fullname function\n",
        "Full_name= fullname(First_name,last_name)\n",
        "\n",
        "#Printing Full Name\n",
        "print(\"Full Name: \"+Full_name)\n",
        "\n",
        "#Calling string_alternative and printing the same\n",
        "print(string_alternative(Full_name))"
      ]
    }
  ],
  "metadata": {
    "colab": {
      "name": "Welcome To Colab",
      "provenance": [],
      "toc_visible": true
    },
    "kernelspec": {
      "display_name": "Python 3",
      "name": "python3"
    }
  },
  "nbformat": 4,
  "nbformat_minor": 0
}
